{
 "cells": [
  {
   "cell_type": "code",
   "execution_count": 1,
   "metadata": {},
   "outputs": [],
   "source": [
    "import pandas as pd\n",
    "import numpy as np\n",
    "\n",
    "from sympy import symbols, Function, Eq"
   ]
  },
  {
   "cell_type": "code",
   "execution_count": null,
   "metadata": {},
   "outputs": [],
   "source": [
    "m = symbols('m') # m: mass of racket (kg)\n",
    "x_b = symbols('x_b') # x_b: balance point (cm) (center of mass)\n",
    "I_s = symbols('I_s') # I_s: swing weight (moment of inertia)\n",
    "I_r = symbols('I_r') # I_s: recoil weight (moment of inertia)\n",
    "omega = symbols('omega') # omega: MgR/I"
   ]
  },
  {
   "cell_type": "code",
   "execution_count": 38,
   "metadata": {},
   "outputs": [],
   "source": [
    "recoil_weight = I_s - m*(x_b-10)**2"
   ]
  },
  {
   "cell_type": "code",
   "execution_count": 39,
   "metadata": {},
   "outputs": [
    {
     "data": {
      "text/latex": [
       "$\\displaystyle I_{s} - m \\left(x_{b} - 10\\right)^{2}$"
      ],
      "text/plain": [
       "I_s - m*(x_b - 10)**2"
      ]
     },
     "execution_count": 39,
     "metadata": {},
     "output_type": "execute_result"
    }
   ],
   "source": [
    "recoil_weight"
   ]
  },
  {
   "cell_type": "code",
   "execution_count": 40,
   "metadata": {},
   "outputs": [],
   "source": [
    "mgri = (980.5*m*x_b)/(I_s+m*(20*x_b-100))"
   ]
  },
  {
   "cell_type": "code",
   "execution_count": 41,
   "metadata": {},
   "outputs": [
    {
     "data": {
      "text/latex": [
       "$\\displaystyle \\frac{980.5 m x_{b}}{I_{s} + m \\left(20 x_{b} - 100\\right)}$"
      ],
      "text/plain": [
       "980.5*m*x_b/(I_s + m*(20*x_b - 100))"
      ]
     },
     "execution_count": 41,
     "metadata": {},
     "output_type": "execute_result"
    }
   ],
   "source": [
    "mgri"
   ]
  },
  {
   "cell_type": "code",
   "execution_count": 44,
   "metadata": {},
   "outputs": [],
   "source": [
    "def calculate_racket_metrics(mass, balance_point, swing_weight):\n",
    "    return {\n",
    "        'recoil_weight': recoil_weight.subs([(m, mass), (x_b, balance_point), (I_s, swing_weight)]),\n",
    "        'MgR/I': mgri.subs([(m, mass), (x_b, balance_point), (I_s, swing_weight)]),\n",
    "    }"
   ]
  },
  {
   "cell_type": "code",
   "execution_count": 45,
   "metadata": {},
   "outputs": [
    {
     "data": {
      "text/plain": [
       "{'recoil_weight': 161.556980000000, 'MgR/I': 20.8871238229492}"
      ]
     },
     "execution_count": 45,
     "metadata": {},
     "output_type": "execute_result"
    }
   ],
   "source": [
    "calculate_racket_metrics(mass=0.3355, balance_point=31.8, swing_weight=321)"
   ]
  }
 ],
 "metadata": {
  "kernelspec": {
   "display_name": ".venv",
   "language": "python",
   "name": "python3"
  },
  "language_info": {
   "codemirror_mode": {
    "name": "ipython",
    "version": 3
   },
   "file_extension": ".py",
   "mimetype": "text/x-python",
   "name": "python",
   "nbconvert_exporter": "python",
   "pygments_lexer": "ipython3",
   "version": "3.13.0"
  }
 },
 "nbformat": 4,
 "nbformat_minor": 2
}
